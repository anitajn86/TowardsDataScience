{
 "cells": [
  {
   "cell_type": "code",
   "execution_count": null,
   "metadata": {},
   "outputs": [],
   "source": [
    "import urllib\n",
    "import bs4 as bs \n",
    "from urllib.request import urlopen\n",
    "\n",
    "url_char='https://arcane.fandom.com/wiki/Category:Characters'\n",
    "\n",
    "sauce=urlopen(url_char).read()\n",
    "soup=bs.BeautifulSoup(sauce,'lxml')"
   ]
  },
  {
   "cell_type": "code",
   "execution_count": 3,
   "metadata": {},
   "outputs": [],
   "source": [
    "import re\n",
    "\n",
    "chars=soup.find_all('li')\n",
    "still_character=True\n",
    "names_urls={}\n",
    "\n",
    "for char in chars:\n",
    "    if '\"title=\"' in str(char) and ':' not in char.text and still_character:\n",
    "        char_name=char.text.strip().rstrip()\n",
    "        if char_name=='Arcane':\n",
    "            still_character=False\n",
    "\n",
    "        char_url='https://arcane.fandom.com'+ re.search(r'href=\"([^\"]+)\"', str(char)).group(1)\n",
    "        if still_character:\n",
    "            names_urls[char_name]=char_url\n",
    "\n"
   ]
  },
  {
   "cell_type": "code",
   "execution_count": 4,
   "metadata": {},
   "outputs": [],
   "source": [
    "for name,url in names_urls.items():\n",
    "    print(name,url)"
   ]
  },
  {
   "cell_type": "code",
   "execution_count": 5,
   "metadata": {},
   "outputs": [
    {
     "name": "stdout",
     "output_type": "stream",
     "text": [
      "0\n"
     ]
    }
   ],
   "source": [
    "print(len(names_urls))"
   ]
  }
 ],
 "metadata": {
  "kernelspec": {
   "display_name": "base",
   "language": "python",
   "name": "python3"
  },
  "language_info": {
   "codemirror_mode": {
    "name": "ipython",
    "version": 3
   },
   "file_extension": ".py",
   "mimetype": "text/x-python",
   "name": "python",
   "nbconvert_exporter": "python",
   "pygments_lexer": "ipython3",
   "version": "3.11.7"
  }
 },
 "nbformat": 4,
 "nbformat_minor": 2
}
